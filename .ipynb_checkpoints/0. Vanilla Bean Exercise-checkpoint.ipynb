{
 "cells": [
  {
   "cell_type": "markdown",
   "metadata": {
    "deletable": false,
    "editable": false,
    "nbgrader": {
     "checksum": "cc78c5a35bffb9e15b43f8f9ee22a18a",
     "grade": false,
     "grade_id": "cell-ab6a32a3a8ba4157",
     "locked": true,
     "schema_version": 1,
     "solution": false
    }
   },
   "source": [
    "# The Vanilla Bean Exercise\n",
    "\n",
    "This exercise involves [data exploration](1. Data Exploration - Vanilla Extracts.ipynb) of NIR spectra from five vanilla extracts purchased from a supermarket, in which you are asked to plot some spectral data,  then build a simple 2-dimensional Linear Discriminant Model and plot the output.\n",
    "\n",
    "You are required to use Python (either 2.7 or 3.4), [Pandas](http://pandas.pydata.org/), [Scipy](https://www.scipy.org/), and [Scikit-Learn](http://scikit-learn.org/stable/). The simplest way of getting these packages, if you haven't already installed them, is to use [Anaconda](https://www.anaconda.com/download/)\n",
    "\n",
    "\n",
    "## Vanilla Extract +  Water + Ethanol + (Sometimes) Sugar \n",
    "The process of [extracting vanilla from vanilla pods](https://en.wikipedia.org/wiki/Vanilla) involves soaking the crushed pods, and seeds, in a mixture of ethyl alcohol and water for a period of days. Once this extraction process is complete, the ethanol content is reduced to about 35%; and in some cases, sugar syrup is also added prior to bottling. \n",
    "\n",
    "## Real World Applications of NIR to Vanilla Production\n",
    "This exercise is rather artificial. However NIR does have a valuable role to play in predicting the optimum time to pick vanilla pods (since vanilla is an orchid, and unlike beans in the vegetable garden) it is difficult for vanilla growers to tell when a vanilla pod has reached optimal maturity, just by visual inspection. \n",
    "\n",
    "Models can be built using NIR spectra to non-destructively measure the pods' maturity state, and - once cured - their grade in terms of vanillin content. There is a [world-wide shortage of vanilla beans](http://www.independent.co.uk/life-style/food-and-drink/news/global-vanilla-shortage-may-cause-ice-cream-prices-to-soar-this-summer-a6971756.html), with prices currently around US$600/kg. So a technique that helps [growers](http://www.brokennosevanilla.com.au/growing-vanilla/) and producers extract maximum value (and flavour ;-) from their harvest is welcomed.\n"
   ]
  },
  {
   "cell_type": "markdown",
   "metadata": {
    "deletable": false,
    "editable": false,
    "nbgrader": {
     "checksum": "368bdaa54927e08762ebf1719de7ee03",
     "grade": false,
     "grade_id": "cell-77dcd310a683d301",
     "locked": true,
     "schema_version": 1,
     "solution": false
    }
   },
   "source": [
    "# Sample Sources\n",
    "The vanilla spectra were obtained by scanning the following 5 samples\n",
    "## Heilala Vanilla Extract\n",
    "This sample is produced by [Heilala Vanilla](https://www.heilalavanilla.co.nz/) in New Zealand. The label states that it contains mineral water and alcohol (35%), and vanilla bean extracts."
   ]
  },
  {
   "cell_type": "code",
   "execution_count": null,
   "metadata": {
    "collapsed": true,
    "deletable": false,
    "editable": false,
    "nbgrader": {
     "checksum": "42fc6108f32833c0cfade74f90d8b513",
     "grade": false,
     "grade_id": "cell-055d694024f21cfc",
     "locked": true,
     "schema_version": 1,
     "solution": false
    }
   },
   "outputs": [],
   "source": [
    "from IPython.display import Image\n",
    "Image(filename='./images/heilala.png', width=120) "
   ]
  },
  {
   "cell_type": "markdown",
   "metadata": {
    "deletable": false,
    "editable": false,
    "nbgrader": {
     "checksum": "2cd92320dfcefa10c6853aa515ab7913",
     "grade": false,
     "grade_id": "cell-eca0d1c95bc9a54c",
     "locked": true,
     "schema_version": 1,
     "solution": false
    }
   },
   "source": [
    "## Queen Vanilla Extract\n",
    "This sample is produced by [Queen Vanilla](https://queen.com.au/) in Australia. The label states that it contains water, alcohol (35%),and vanilla bean extracts."
   ]
  },
  {
   "cell_type": "code",
   "execution_count": null,
   "metadata": {
    "collapsed": true,
    "deletable": false,
    "editable": false,
    "nbgrader": {
     "checksum": "c419bd0caa6d2b8756d7b39e6a05cf5e",
     "grade": false,
     "grade_id": "cell-2d0765ac7997b9b6",
     "locked": true,
     "schema_version": 1,
     "solution": false
    }
   },
   "outputs": [],
   "source": [
    "Image(filename='./images/queen_pure.png', width=100) "
   ]
  },
  {
   "cell_type": "markdown",
   "metadata": {
    "deletable": false,
    "editable": false,
    "nbgrader": {
     "checksum": "42c9f90ff6eacdc3f23685deb51b3c29",
     "grade": false,
     "grade_id": "cell-be7329a6dbadc735",
     "locked": true,
     "schema_version": 1,
     "solution": false
    }
   },
   "source": [
    "## Hansells Vanilla Essence\n",
    "This sample is produced by [Queen Vanilla](https://queen.com.au/) in Australia. The label states that it contains water, alcohol (35%), sugar,and vanilla bean extracts."
   ]
  },
  {
   "cell_type": "code",
   "execution_count": null,
   "metadata": {
    "collapsed": true,
    "deletable": false,
    "editable": false,
    "nbgrader": {
     "checksum": "a9a478f4a8762b6c269a550830314a57",
     "grade": false,
     "grade_id": "cell-cf2dd29739c103b8",
     "locked": true,
     "schema_version": 1,
     "solution": false
    }
   },
   "outputs": [],
   "source": [
    "from IPython.display import Image\n",
    "Image(filename='./images/Hansells-Essence.jpg', width=75) "
   ]
  },
  {
   "cell_type": "markdown",
   "metadata": {
    "deletable": false,
    "editable": false,
    "nbgrader": {
     "checksum": "7ede4bf9ac703d0c895ad9418c50523d",
     "grade": false,
     "grade_id": "cell-62d12b4f2d0ad2a6",
     "locked": true,
     "schema_version": 1,
     "solution": false
    }
   },
   "source": [
    "## Queen Vanilla Essence\n",
    "This sample is produced by [Queen Vanilla](https://queen.com.au/) in Australia. The label states that it contains water, alcohol (35%), sugar,and vanilla bean extracts."
   ]
  },
  {
   "cell_type": "code",
   "execution_count": null,
   "metadata": {
    "collapsed": true,
    "deletable": false,
    "editable": false,
    "nbgrader": {
     "checksum": "0dae1d7fc988ae907d2c5e238f28fde8",
     "grade": false,
     "grade_id": "cell-3a14bb3844a33864",
     "locked": true,
     "schema_version": 1,
     "solution": false
    }
   },
   "outputs": [],
   "source": [
    "Image(filename='./images/queen_essence.jpg', width=75) "
   ]
  },
  {
   "cell_type": "markdown",
   "metadata": {
    "deletable": false,
    "editable": false,
    "nbgrader": {
     "checksum": "83f2b592120f368742ee9b923c9f86f9",
     "grade": false,
     "grade_id": "cell-60d713b1d73f75d5",
     "locked": true,
     "schema_version": 1,
     "solution": false
    }
   },
   "source": [
    "## Taylor and Colledge Vanilla Extract\n",
    "This sample is produced by [Queen Vanilla](https://queen.com.au/) in Australia. The label states that it contains water, alcohol (35%), sugar,and vanilla bean extracts."
   ]
  },
  {
   "cell_type": "code",
   "execution_count": null,
   "metadata": {
    "collapsed": true,
    "deletable": false,
    "editable": false,
    "nbgrader": {
     "checksum": "fdb2bbc27cbed778cb9bf3efe14875d0",
     "grade": false,
     "grade_id": "cell-34bf8326536cb455",
     "locked": true,
     "schema_version": 1,
     "solution": false
    }
   },
   "outputs": [],
   "source": [
    "Image(filename='./images/Taylor_Colledge.png', width=100) "
   ]
  }
 ],
 "metadata": {
  "kernelspec": {
   "display_name": "Python 3",
   "language": "python",
   "name": "python3"
  },
  "language_info": {
   "codemirror_mode": {
    "name": "ipython",
    "version": 3
   },
   "file_extension": ".py",
   "mimetype": "text/x-python",
   "name": "python",
   "nbconvert_exporter": "python",
   "pygments_lexer": "ipython3",
   "version": "3.6.1"
  }
 },
 "nbformat": 4,
 "nbformat_minor": 1
}
